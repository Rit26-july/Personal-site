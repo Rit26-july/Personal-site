{
  "nbformat": 4,
  "nbformat_minor": 0,
  "metadata": {
    "colab": {
      "name": "basics.ipynb",
      "provenance": [],
      "authorship_tag": "ABX9TyPXr0hvSD9jRdZ7SWN3qrJJ",
      "include_colab_link": true
    },
    "kernelspec": {
      "name": "python3",
      "display_name": "Python 3"
    },
    "language_info": {
      "name": "python"
    }
  },
  "cells": [
    {
      "cell_type": "markdown",
      "metadata": {
        "id": "view-in-github",
        "colab_type": "text"
      },
      "source": [
        "<a href=\"https://colab.research.google.com/github/Rit26-july/Personal-site/blob/master/basics.ipynb\" target=\"_parent\"><img src=\"https://colab.research.google.com/assets/colab-badge.svg\" alt=\"Open In Colab\"/></a>"
      ]
    },
    {
      "cell_type": "code",
      "execution_count": null,
      "metadata": {
        "id": "0lAXusTvIdy5"
      },
      "outputs": [],
      "source": [
        "x = 123"
      ]
    },
    {
      "cell_type": "code",
      "source": [
        "type(x)"
      ],
      "metadata": {
        "colab": {
          "base_uri": "https://localhost:8080/"
        },
        "id": "9KWEPrsPImZy",
        "outputId": "c556ea5b-077b-4792-f04e-09b0943b1572"
      },
      "execution_count": null,
      "outputs": [
        {
          "output_type": "execute_result",
          "data": {
            "text/plain": [
              "int"
            ]
          },
          "metadata": {},
          "execution_count": 2
        }
      ]
    },
    {
      "cell_type": "code",
      "source": [
        "name = \"hello\""
      ],
      "metadata": {
        "id": "mFvyzBL3Iz9N"
      },
      "execution_count": null,
      "outputs": []
    },
    {
      "cell_type": "code",
      "source": [
        "name = 'Ritesh'"
      ],
      "metadata": {
        "id": "aUS9jaW5JTEx"
      },
      "execution_count": null,
      "outputs": []
    },
    {
      "cell_type": "code",
      "source": [
        "type(name)"
      ],
      "metadata": {
        "colab": {
          "base_uri": "https://localhost:8080/"
        },
        "id": "sbx8yTWAJXSu",
        "outputId": "632897d5-e17d-4cc1-a118-20e4cf73ec83"
      },
      "execution_count": null,
      "outputs": [
        {
          "output_type": "execute_result",
          "data": {
            "text/plain": [
              "str"
            ]
          },
          "metadata": {},
          "execution_count": 6
        }
      ]
    },
    {
      "cell_type": "code",
      "source": [
        "a = [1,2.2,'yellow']"
      ],
      "metadata": {
        "id": "f7y_SQtrJbsO"
      },
      "execution_count": null,
      "outputs": []
    },
    {
      "cell_type": "code",
      "source": [
        "type(a)"
      ],
      "metadata": {
        "colab": {
          "base_uri": "https://localhost:8080/"
        },
        "id": "DmA-q7yFLxgi",
        "outputId": "243a3d0d-3694-41dc-b663-660c456557b1"
      },
      "execution_count": null,
      "outputs": [
        {
          "output_type": "execute_result",
          "data": {
            "text/plain": [
              "list"
            ]
          },
          "metadata": {},
          "execution_count": 8
        }
      ]
    },
    {
      "cell_type": "code",
      "source": [
        "a = (1,2.2,'yellow')"
      ],
      "metadata": {
        "id": "1NDfQldLMh_u"
      },
      "execution_count": null,
      "outputs": []
    },
    {
      "cell_type": "code",
      "source": [
        "type(a)"
      ],
      "metadata": {
        "colab": {
          "base_uri": "https://localhost:8080/"
        },
        "id": "J1_boxlsMpfq",
        "outputId": "4257bc80-4a5b-4369-9c5a-778620d508f9"
      },
      "execution_count": null,
      "outputs": [
        {
          "output_type": "execute_result",
          "data": {
            "text/plain": [
              "tuple"
            ]
          },
          "metadata": {},
          "execution_count": 14
        }
      ]
    },
    {
      "cell_type": "code",
      "source": [
        "a = {1,2.2,'yellow'}"
      ],
      "metadata": {
        "id": "mJt-rNqIMrVC"
      },
      "execution_count": null,
      "outputs": []
    },
    {
      "cell_type": "code",
      "source": [
        "type(a)"
      ],
      "metadata": {
        "colab": {
          "base_uri": "https://localhost:8080/"
        },
        "id": "HABm36lMNd35",
        "outputId": "3f5d5042-0404-428d-bfbd-d008c568e2ef"
      },
      "execution_count": null,
      "outputs": [
        {
          "output_type": "execute_result",
          "data": {
            "text/plain": [
              "set"
            ]
          },
          "metadata": {},
          "execution_count": 16
        }
      ]
    },
    {
      "cell_type": "code",
      "source": [
        "thisdict = {\n",
        "  \"brand\": \"Ford\",\n",
        "  \"model\": \"Mustang\",\n",
        "  \"year\": 1964\n",
        "}"
      ],
      "metadata": {
        "id": "X1MZ-FI0NfgY"
      },
      "execution_count": null,
      "outputs": []
    },
    {
      "cell_type": "code",
      "source": [
        "type(thisdict)"
      ],
      "metadata": {
        "colab": {
          "base_uri": "https://localhost:8080/"
        },
        "id": "U7LNu3WxOh9j",
        "outputId": "3e6a34c6-88b6-4b33-879c-4fe5f2c9f78e"
      },
      "execution_count": null,
      "outputs": [
        {
          "output_type": "execute_result",
          "data": {
            "text/plain": [
              "dict"
            ]
          },
          "metadata": {},
          "execution_count": 21
        }
      ]
    },
    {
      "cell_type": "code",
      "source": [
        "hero = input(\"who is your favourite hero?\");"
      ],
      "metadata": {
        "id": "CCpKDYqlRmUk",
        "colab": {
          "base_uri": "https://localhost:8080/"
        },
        "outputId": "66201060-4e86-4ebb-94c4-815cd956fe93"
      },
      "execution_count": null,
      "outputs": [
        {
          "name": "stdout",
          "output_type": "stream",
          "text": [
            "who is your favourite hero?Ritesh\n"
          ]
        }
      ]
    },
    {
      "cell_type": "code",
      "source": [
        "type(hero)\n"
      ],
      "metadata": {
        "colab": {
          "base_uri": "https://localhost:8080/"
        },
        "id": "LV72hD2lefh6",
        "outputId": "24b7ef01-d20c-442a-84fc-de3369f269e1"
      },
      "execution_count": null,
      "outputs": [
        {
          "output_type": "execute_result",
          "data": {
            "text/plain": [
              "str"
            ]
          },
          "metadata": {},
          "execution_count": 6
        }
      ]
    },
    {
      "cell_type": "code",
      "source": [
        "name = input(\"Enter your name\")\n",
        "Age =  input(\"Enter your age\")\n"
      ],
      "metadata": {
        "colab": {
          "base_uri": "https://localhost:8080/"
        },
        "id": "b5L8xgJif0A3",
        "outputId": "b2673ca6-d706-4868-97d5-e8874e4db470"
      },
      "execution_count": null,
      "outputs": [
        {
          "name": "stdout",
          "output_type": "stream",
          "text": [
            "Enter your nameRitesh\n",
            "Enter your age19\n"
          ]
        }
      ]
    },
    {
      "cell_type": "code",
      "source": [
        "type(name)\n",
        "type(Age)"
      ],
      "metadata": {
        "colab": {
          "base_uri": "https://localhost:8080/"
        },
        "id": "glB5fz46f-3u",
        "outputId": "54557908-3d68-4065-f35a-7cafaee8fedc"
      },
      "execution_count": null,
      "outputs": [
        {
          "output_type": "execute_result",
          "data": {
            "text/plain": [
              "str"
            ]
          },
          "metadata": {},
          "execution_count": 11
        }
      ]
    },
    {
      "cell_type": "code",
      "source": [
        "roll_number = int(input(\"Enter your Roll number\"))"
      ],
      "metadata": {
        "colab": {
          "base_uri": "https://localhost:8080/"
        },
        "id": "3iq35MHJgXfN",
        "outputId": "8a634fde-4f75-4b2b-987b-c96113d4dd27"
      },
      "execution_count": null,
      "outputs": [
        {
          "name": "stdout",
          "output_type": "stream",
          "text": [
            "Enter your Roll number 1\n"
          ]
        }
      ]
    },
    {
      "cell_type": "code",
      "source": [
        "x = '100'\n",
        "y = '-90'\n",
        "x+y"
      ],
      "metadata": {
        "colab": {
          "base_uri": "https://localhost:8080/",
          "height": 35
        },
        "id": "uJdoF0OXglcn",
        "outputId": "ff78a6ff-c60e-4114-a54c-6dc7999465dd"
      },
      "execution_count": null,
      "outputs": [
        {
          "output_type": "execute_result",
          "data": {
            "application/vnd.google.colaboratory.intrinsic+json": {
              "type": "string"
            },
            "text/plain": [
              "'100-90'"
            ]
          },
          "metadata": {},
          "execution_count": 13
        }
      ]
    },
    {
      "cell_type": "code",
      "source": [
        "x+y"
      ],
      "metadata": {
        "colab": {
          "base_uri": "https://localhost:8080/",
          "height": 35
        },
        "id": "H5bzDPxYg1H9",
        "outputId": "ee1ca34a-0721-4f49-a3c2-bdac96492059"
      },
      "execution_count": null,
      "outputs": [
        {
          "output_type": "execute_result",
          "data": {
            "application/vnd.google.colaboratory.intrinsic+json": {
              "type": "string"
            },
            "text/plain": [
              "'100-90'"
            ]
          },
          "metadata": {},
          "execution_count": 14
        }
      ]
    },
    {
      "cell_type": "code",
      "source": [
        "z = 123.2\n",
        "z1 = int(z)\n",
        "type(z1)"
      ],
      "metadata": {
        "colab": {
          "base_uri": "https://localhost:8080/"
        },
        "id": "9oMQw5GOg5Y3",
        "outputId": "ac88f823-251d-42b4-af8b-058234bb99e8"
      },
      "execution_count": null,
      "outputs": [
        {
          "output_type": "execute_result",
          "data": {
            "text/plain": [
              "int"
            ]
          },
          "metadata": {},
          "execution_count": 17
        }
      ]
    },
    {
      "cell_type": "code",
      "source": [
        "print(\"how are you?\")"
      ],
      "metadata": {
        "colab": {
          "base_uri": "https://localhost:8080/"
        },
        "id": "MFnlaHdZhZwr",
        "outputId": "9402b89a-7daf-4fb3-c84b-3c4e3b9d7e56"
      },
      "execution_count": null,
      "outputs": [
        {
          "output_type": "stream",
          "name": "stdout",
          "text": [
            "how are you?\n"
          ]
        }
      ]
    },
    {
      "cell_type": "code",
      "source": [
        "print(\"hey\",'may i know you?')"
      ],
      "metadata": {
        "colab": {
          "base_uri": "https://localhost:8080/"
        },
        "id": "YtJ3atqdierR",
        "outputId": "c3acfdbf-085c-4e52-e0db-c28e28d3b948"
      },
      "execution_count": null,
      "outputs": [
        {
          "output_type": "stream",
          "name": "stdout",
          "text": [
            "hey may i know you?\n"
          ]
        }
      ]
    },
    {
      "cell_type": "code",
      "source": [
        "print(1, 2, 3)\n",
        "print(1, 2, 3 ,sep='*') \n",
        "print(1, 2, 3 ,sep='#',end='&') \n"
      ],
      "metadata": {
        "colab": {
          "base_uri": "https://localhost:8080/"
        },
        "id": "U71AE-Vyij6S",
        "outputId": "6bfb894f-b340-4faf-8524-d97da7cf4c7c"
      },
      "execution_count": null,
      "outputs": [
        {
          "output_type": "stream",
          "name": "stdout",
          "text": [
            "1 2 3\n",
            "1*2*3\n",
            "1#2#3&"
          ]
        }
      ]
    },
    {
      "cell_type": "code",
      "source": [
        "qty    = 10\n",
        "fruits = 'apple'\n",
        "print(f\"i will purchase {qty} {fruits} today\")"
      ],
      "metadata": {
        "colab": {
          "base_uri": "https://localhost:8080/"
        },
        "id": "fXvU6E6QkXdm",
        "outputId": "6df01644-ffdc-4e11-b5ad-1e08e52585f3"
      },
      "execution_count": null,
      "outputs": [
        {
          "output_type": "stream",
          "name": "stdout",
          "text": [
            "i will purchase 10 apple today\n"
          ]
        }
      ]
    },
    {
      "cell_type": "code",
      "source": [
        "print('you see a apple seller')\n",
        "q = input('do you like apple?')\n",
        "\n",
        "if q == 'yes':\n",
        "  print('Purchase 2 kg')\n",
        "if q == 'no':\n",
        "  print('You dont purchase')"
      ],
      "metadata": {
        "id": "PgU7nosvlx96",
        "colab": {
          "base_uri": "https://localhost:8080/"
        },
        "outputId": "600c3b23-0dd1-4623-c6d3-af1ba7bc3577"
      },
      "execution_count": null,
      "outputs": [
        {
          "output_type": "stream",
          "name": "stdout",
          "text": [
            "you see a apple seller\n",
            "do you like apple?yes\n",
            "Purchase 2 kg\n"
          ]
        }
      ]
    },
    {
      "cell_type": "code",
      "source": [
        "temp = float(input('What is temperature?'))\n",
        "if temp>70:\n",
        "  print('wear shorts')\n",
        "else:\n",
        "  print('Wear long')"
      ],
      "metadata": {
        "colab": {
          "base_uri": "https://localhost:8080/"
        },
        "id": "loTYDkDRo9__",
        "outputId": "124e84e4-c2e3-45cd-abe4-00d13933b374"
      },
      "execution_count": null,
      "outputs": [
        {
          "output_type": "stream",
          "name": "stdout",
          "text": [
            "What is temperature?29\n",
            "Wear long\n"
          ]
        }
      ]
    },
    {
      "cell_type": "code",
      "source": [
        "score = float(input('your score'))\n",
        "if score>=90:\n",
        "  letter = 'A'\n",
        "elif score>=80:\n",
        "  letter = 'B'\n",
        "elif score>=70:\n",
        "  letter = 'C'\n",
        "elif score>=60:\n",
        "  letter = 'D'\n",
        "elif score>=50:\n",
        "  letter = 'E'\n",
        "else:\n",
        "  letter = 'F'\n",
        "print(letter)"
      ],
      "metadata": {
        "colab": {
          "base_uri": "https://localhost:8080/"
        },
        "id": "rWOXOyhYr5bf",
        "outputId": "0d2bdb07-31be-4071-fe1e-175d33695ab3"
      },
      "execution_count": null,
      "outputs": [
        {
          "output_type": "stream",
          "name": "stdout",
          "text": [
            "A\n"
          ]
        }
      ]
    },
    {
      "cell_type": "code",
      "source": [
        "fruits = ['apple','banana','lemon'] \n",
        "for item in fruits:\n",
        "  print('i have',item)    "
      ],
      "metadata": {
        "id": "7RqQ0yzXvCm7",
        "colab": {
          "base_uri": "https://localhost:8080/"
        },
        "outputId": "c760ec79-aa0c-49b3-9429-27b5d6894aee"
      },
      "execution_count": 2,
      "outputs": [
        {
          "output_type": "stream",
          "name": "stdout",
          "text": [
            "i have apple\n",
            "i have banana\n",
            "i have lemon\n"
          ]
        }
      ]
    },
    {
      "cell_type": "code",
      "source": [
        "R = 'Python'\n",
        "for i in R:\n",
        "  print(i)"
      ],
      "metadata": {
        "colab": {
          "base_uri": "https://localhost:8080/"
        },
        "id": "ZrIGFJI4Dofv",
        "outputId": "4003a876-4e5d-45c5-e015-b356629ddfca"
      },
      "execution_count": 3,
      "outputs": [
        {
          "output_type": "stream",
          "name": "stdout",
          "text": [
            "P\n",
            "y\n",
            "t\n",
            "h\n",
            "o\n",
            "n\n"
          ]
        }
      ]
    },
    {
      "cell_type": "code",
      "source": [
        "for i in range(2,10,2):\n",
        "   print(i)"
      ],
      "metadata": {
        "colab": {
          "base_uri": "https://localhost:8080/"
        },
        "id": "jocjBeqaE7Z8",
        "outputId": "88d052d4-377d-4b4a-b45e-b6437d272937"
      },
      "execution_count": 5,
      "outputs": [
        {
          "output_type": "stream",
          "name": "stdout",
          "text": [
            "2\n",
            "4\n",
            "6\n",
            "8\n"
          ]
        }
      ]
    },
    {
      "cell_type": "code",
      "source": [
        "for i in range(10):\n",
        "  print(i * '*')"
      ],
      "metadata": {
        "colab": {
          "base_uri": "https://localhost:8080/"
        },
        "id": "3CkHYN1EHQDY",
        "outputId": "779d6308-5860-4756-c550-de277ba8962f"
      },
      "execution_count": 7,
      "outputs": [
        {
          "output_type": "stream",
          "name": "stdout",
          "text": [
            "\n",
            "*\n",
            "**\n",
            "***\n",
            "****\n",
            "*****\n",
            "******\n",
            "*******\n",
            "********\n",
            "*********\n"
          ]
        }
      ]
    },
    {
      "cell_type": "code",
      "source": [
        "#ODD N EVEN\n",
        "for i in range(1,11):\n",
        "  if i%2 == 0:\n",
        "    print('EVEN',i)\n",
        "  else:\n",
        "    print('ODD',i)\n"
      ],
      "metadata": {
        "colab": {
          "base_uri": "https://localhost:8080/"
        },
        "id": "QHVz18CIIASN",
        "outputId": "836a4a47-d443-4ebb-a413-66c6394d1d34"
      },
      "execution_count": 9,
      "outputs": [
        {
          "output_type": "stream",
          "name": "stdout",
          "text": [
            "ODD 1\n",
            "EVEN 2\n",
            "ODD 3\n",
            "EVEN 4\n",
            "ODD 5\n",
            "EVEN 6\n",
            "ODD 7\n",
            "EVEN 8\n",
            "ODD 9\n",
            "EVEN 10\n"
          ]
        }
      ]
    },
    {
      "cell_type": "code",
      "source": [
        "# for adding even number from 1 t0 10,display the result\n",
        "total = 0\n",
        "for i in range(1,19):\n",
        "  if i%2 == 0:\n",
        "    total = i + total\n",
        "print('total',total)\n"
      ],
      "metadata": {
        "colab": {
          "base_uri": "https://localhost:8080/"
        },
        "id": "k95kWc99JB4T",
        "outputId": "4b05ac40-cd6d-493b-bf10-de7bad1b55fe"
      },
      "execution_count": 18,
      "outputs": [
        {
          "output_type": "stream",
          "name": "stdout",
          "text": [
            "total 90\n"
          ]
        }
      ]
    },
    {
      "cell_type": "code",
      "source": [
        "total = 0\n",
        "for i in range(1,10):\n",
        "  if i%2 != 0:\n",
        "    total = (i + total)/10\n",
        "print('total',total)"
      ],
      "metadata": {
        "colab": {
          "base_uri": "https://localhost:8080/"
        },
        "id": "9_rWprX8J2L9",
        "outputId": "38e89c6e-e2db-4d12-c878-e3c099a2b169"
      },
      "execution_count": 22,
      "outputs": [
        {
          "output_type": "stream",
          "name": "stdout",
          "text": [
            "total 0.49382718542352305\n"
          ]
        }
      ]
    },
    {
      "cell_type": "code",
      "source": [
        "#while loop\n",
        "x = 1\n",
        "while x<5:\n",
        "  print('run')\n",
        "  x= x+1\n",
        "print('stop')"
      ],
      "metadata": {
        "colab": {
          "base_uri": "https://localhost:8080/"
        },
        "id": "NGp0lTvDM2ok",
        "outputId": "b4b81a4d-4593-47e7-db0a-7a94b2ed747d"
      },
      "execution_count": 24,
      "outputs": [
        {
          "output_type": "stream",
          "name": "stdout",
          "text": [
            "run\n",
            "run\n",
            "run\n",
            "run\n",
            "stop\n"
          ]
        }
      ]
    },
    {
      "cell_type": "code",
      "source": [
        "n = 10\n",
        "sum = 0\n",
        "i = 1\n",
        "while i<=n:\n",
        "  sum = sum + i\n",
        "  i = i + 1\n",
        "print('the sum is =',sum)"
      ],
      "metadata": {
        "colab": {
          "base_uri": "https://localhost:8080/"
        },
        "id": "LjnUiiT1O2wI",
        "outputId": "e269e253-0d8f-460e-a220-e3e405932bb7"
      },
      "execution_count": 27,
      "outputs": [
        {
          "output_type": "stream",
          "name": "stdout",
          "text": [
            "the sum is = 55\n"
          ]
        }
      ]
    },
    {
      "cell_type": "code",
      "source": [
        ""
      ],
      "metadata": {
        "id": "ZNq4cRiCPKIj"
      },
      "execution_count": null,
      "outputs": []
    }
  ]
}